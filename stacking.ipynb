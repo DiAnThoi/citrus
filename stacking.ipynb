{
 "cells": [
  {
   "cell_type": "code",
   "execution_count": 1,
   "metadata": {},
   "outputs": [
    {
     "name": "stdout",
     "output_type": "stream",
     "text": [
      "Requirement already satisfied: visualkeras in /home/tower1/mambaforge/envs/citrus/lib/python3.8/site-packages (0.0.2)\n",
      "Requirement already satisfied: pillow>=6.2.0 in /home/tower1/mambaforge/envs/citrus/lib/python3.8/site-packages (from visualkeras) (10.1.0)\n",
      "Requirement already satisfied: numpy>=1.18.1 in /home/tower1/mambaforge/envs/citrus/lib/python3.8/site-packages (from visualkeras) (1.24.3)\n",
      "Requirement already satisfied: aggdraw>=1.3.11 in /home/tower1/mambaforge/envs/citrus/lib/python3.8/site-packages (from visualkeras) (1.3.16)\n",
      "Note: you may need to restart the kernel to use updated packages.\n"
     ]
    }
   ],
   "source": [
    "%pip install visualkeras"
   ]
  },
  {
   "cell_type": "code",
   "execution_count": 1,
   "metadata": {},
   "outputs": [
    {
     "name": "stderr",
     "output_type": "stream",
     "text": [
      "2023-11-21 22:50:53.054904: I tensorflow/core/platform/cpu_feature_guard.cc:182] This TensorFlow binary is optimized to use available CPU instructions in performance-critical operations.\n",
      "To enable the following instructions: AVX2 FMA, in other operations, rebuild TensorFlow with the appropriate compiler flags.\n",
      "2023-11-21 22:50:54.046632: W tensorflow/compiler/tf2tensorrt/utils/py_utils.cc:38] TF-TRT Warning: Could not find TensorRT\n"
     ]
    }
   ],
   "source": [
    "import tensorflow as tf\n",
    "from tensorflow import keras\n",
    "from keras import backend as K\n",
    "import numpy as np"
   ]
  },
  {
   "cell_type": "code",
   "execution_count": 2,
   "metadata": {},
   "outputs": [],
   "source": [
    "import os\n",
    "import keras\n",
    "from keras.models import Sequential\n",
    "from keras.layers import Dense, Dropout, Flatten\n",
    "from keras.layers import Conv2D, MaxPooling2D\n",
    "from keras.layers import Activation, BatchNormalization \n",
    "from keras.preprocessing import image\n",
    "import cv2\n",
    "import matplotlib.pyplot as plt\n",
    "from sklearn.model_selection import train_test_split"
   ]
  },
  {
   "cell_type": "code",
   "execution_count": 3,
   "metadata": {},
   "outputs": [],
   "source": [
    "data_path = \"data_citrus_level/\"\n",
    "CATEGORIES = [\"black_spot\", \"black_spot_early\", \"canker\", \"canker_early\", \"greening\", \"greening_early\", \"melanose\", \"melanose_early\", \"healthy\"]\n",
    "IMG_SIZE = 224\n",
    "\n",
    "#create training data\n",
    "training = []\n",
    "def createTrainingData():\n",
    "    for category in CATEGORIES:\n",
    "        path = os.path.join(data_path, category)\n",
    "        class_num = CATEGORIES.index(category)\n",
    "        for img in os.listdir(path):\n",
    "            img_array = cv2.imread(os.path.join(path,img))\n",
    "            new_array = cv2.resize(img_array, (IMG_SIZE, IMG_SIZE))\n",
    "            training.append([new_array, class_num])\n",
    "\n",
    "createTrainingData()"
   ]
  },
  {
   "cell_type": "code",
   "execution_count": 4,
   "metadata": {},
   "outputs": [],
   "source": [
    "import random\n",
    "random.shuffle(training)"
   ]
  },
  {
   "cell_type": "code",
   "execution_count": 4,
   "metadata": {},
   "outputs": [],
   "source": [
    "X = []\n",
    "y = []\n",
    "for features, label in training:\n",
    "    X.append(features)\n",
    "    y.append(label)"
   ]
  },
  {
   "cell_type": "code",
   "execution_count": 5,
   "metadata": {},
   "outputs": [
    {
     "name": "stdout",
     "output_type": "stream",
     "text": [
      "(1152, 224, 224, 3)\n",
      "(1152, 9)\n"
     ]
    }
   ],
   "source": [
    "X = np.array(X).reshape(-1, IMG_SIZE, IMG_SIZE, 3)\n",
    "\n",
    "#Normalize X\n",
    "X = X.astype('float32')\n",
    "X /= 255\n",
    "\n",
    "Y = keras.utils.to_categorical(y)\n",
    "print(X.shape)\n",
    "print(Y.shape)   "
   ]
  },
  {
   "cell_type": "code",
   "execution_count": null,
   "metadata": {},
   "outputs": [],
   "source": [
    "print(Y[10])"
   ]
  },
  {
   "cell_type": "code",
   "execution_count": 6,
   "metadata": {},
   "outputs": [],
   "source": [
    "X_train, X_test, y_train, y_test = train_test_split(X, Y, test_size=0.10)\n",
    "X_train, X_val, y_train, y_val = train_test_split(X_train, y_train, test_size=0.17)"
   ]
  },
  {
   "cell_type": "code",
   "execution_count": 7,
   "metadata": {},
   "outputs": [
    {
     "name": "stdout",
     "output_type": "stream",
     "text": [
      "Model: \"sequential\"\n",
      "_________________________________________________________________\n",
      " Layer (type)                Output Shape              Param #   \n",
      "=================================================================\n",
      " conv2d (Conv2D)             (None, 224, 224, 32)      896       \n",
      "                                                                 \n",
      " max_pooling2d (MaxPooling2  (None, 112, 112, 32)      0         \n",
      " D)                                                              \n",
      "                                                                 \n",
      " batch_normalization (Batch  (None, 112, 112, 32)      128       \n",
      " Normalization)                                                  \n",
      "                                                                 \n",
      " conv2d_1 (Conv2D)           (None, 112, 112, 32)      9248      \n",
      "                                                                 \n",
      " max_pooling2d_1 (MaxPoolin  (None, 56, 56, 32)        0         \n",
      " g2D)                                                            \n",
      "                                                                 \n",
      " dropout (Dropout)           (None, 56, 56, 32)        0         \n",
      "                                                                 \n",
      " flatten (Flatten)           (None, 100352)            0         \n",
      "                                                                 \n",
      " dense (Dense)               (None, 256)               25690368  \n",
      "                                                                 \n",
      " dense_1 (Dense)             (None, 9)                 2313      \n",
      "                                                                 \n",
      "=================================================================\n",
      "Total params: 25702953 (98.05 MB)\n",
      "Trainable params: 25702889 (98.05 MB)\n",
      "Non-trainable params: 64 (256.00 Byte)\n",
      "_________________________________________________________________\n"
     ]
    },
    {
     "name": "stderr",
     "output_type": "stream",
     "text": [
      "2023-11-21 22:51:25.381249: I tensorflow/core/common_runtime/gpu/gpu_device.cc:1639] Created device /job:localhost/replica:0/task:0/device:GPU:0 with 8727 MB memory:  -> device: 0, name: NVIDIA GeForce RTX 2080 Ti, pci bus id: 0000:03:00.0, compute capability: 7.5\n"
     ]
    }
   ],
   "source": [
    "#CNN1\n",
    "cnn1 = Sequential()\n",
    "cnn1.add(Conv2D(32, kernel_size = (3,3), padding = \"same\", activation=\"relu\", input_shape = (224, 224, 3)))\n",
    "cnn1.add(MaxPooling2D(pool_size=(2, 2)))\n",
    "cnn1.add(BatchNormalization())\n",
    "cnn1.add(Conv2D(32, kernel_size = (3,3), padding = \"same\", activation=\"relu\"))\n",
    "cnn1.add(MaxPooling2D(pool_size=(2, 2)))\n",
    "cnn1.add(Dropout(0.5))\n",
    "cnn1.add(Flatten())\n",
    "cnn1.add(Dense(256, activation = 'relu'))\n",
    "cnn1.add(Dense(9, activation='softmax'))\n",
    "cnn1.summary()"
   ]
  },
  {
   "cell_type": "code",
   "execution_count": 8,
   "metadata": {},
   "outputs": [],
   "source": [
    "cnn1.compile(optimizer = 'Adam', loss = 'categorical_crossentropy', metrics = ['accuracy'])"
   ]
  },
  {
   "cell_type": "code",
   "execution_count": 11,
   "metadata": {},
   "outputs": [
    {
     "name": "stdout",
     "output_type": "stream",
     "text": [
      "Epoch 1/30\n",
      "54/54 [==============================] - 2s 31ms/step - loss: 0.2401 - accuracy: 0.9267 - val_loss: 4.7491 - val_accuracy: 0.4350\n",
      "Epoch 2/30\n",
      "54/54 [==============================] - 1s 24ms/step - loss: 0.1919 - accuracy: 0.9523 - val_loss: 4.2434 - val_accuracy: 0.3785\n",
      "Epoch 3/30\n",
      "54/54 [==============================] - 1s 23ms/step - loss: 0.1277 - accuracy: 0.9569 - val_loss: 6.0237 - val_accuracy: 0.3164\n",
      "Epoch 4/30\n",
      "54/54 [==============================] - 1s 23ms/step - loss: 0.1492 - accuracy: 0.9604 - val_loss: 7.1929 - val_accuracy: 0.3842\n",
      "Epoch 5/30\n",
      "54/54 [==============================] - 1s 23ms/step - loss: 0.0376 - accuracy: 0.9872 - val_loss: 11.8908 - val_accuracy: 0.2090\n",
      "Epoch 6/30\n",
      "54/54 [==============================] - 1s 24ms/step - loss: 0.0221 - accuracy: 0.9953 - val_loss: 3.3187 - val_accuracy: 0.5819\n",
      "Epoch 7/30\n",
      "54/54 [==============================] - 1s 23ms/step - loss: 0.0305 - accuracy: 0.9930 - val_loss: 2.3944 - val_accuracy: 0.5932\n",
      "Epoch 8/30\n",
      "54/54 [==============================] - 1s 23ms/step - loss: 0.0023 - accuracy: 1.0000 - val_loss: 2.1230 - val_accuracy: 0.6667\n",
      "Epoch 9/30\n",
      "54/54 [==============================] - 1s 23ms/step - loss: 0.0015 - accuracy: 1.0000 - val_loss: 2.2188 - val_accuracy: 0.6780\n",
      "Epoch 10/30\n",
      "54/54 [==============================] - 1s 23ms/step - loss: 0.0010 - accuracy: 1.0000 - val_loss: 2.1596 - val_accuracy: 0.6780\n",
      "Epoch 11/30\n",
      "54/54 [==============================] - 1s 24ms/step - loss: 5.8700e-04 - accuracy: 1.0000 - val_loss: 2.2314 - val_accuracy: 0.6780\n",
      "Epoch 12/30\n",
      "54/54 [==============================] - 1s 23ms/step - loss: 3.4435e-04 - accuracy: 1.0000 - val_loss: 2.2429 - val_accuracy: 0.6949\n",
      "Epoch 13/30\n",
      "54/54 [==============================] - 1s 23ms/step - loss: 3.6350e-04 - accuracy: 1.0000 - val_loss: 2.2680 - val_accuracy: 0.6893\n",
      "Epoch 14/30\n",
      "54/54 [==============================] - 1s 23ms/step - loss: 4.8561e-04 - accuracy: 1.0000 - val_loss: 2.2607 - val_accuracy: 0.6893\n",
      "Epoch 15/30\n",
      "54/54 [==============================] - 1s 23ms/step - loss: 0.0032 - accuracy: 0.9988 - val_loss: 18.8468 - val_accuracy: 0.2260\n",
      "Epoch 16/30\n",
      "54/54 [==============================] - 1s 23ms/step - loss: 0.0214 - accuracy: 0.9942 - val_loss: 9.3909 - val_accuracy: 0.3107\n",
      "Epoch 17/30\n",
      "54/54 [==============================] - 1s 23ms/step - loss: 0.0917 - accuracy: 0.9779 - val_loss: 15.0296 - val_accuracy: 0.2542\n",
      "Epoch 18/30\n",
      "54/54 [==============================] - 1s 23ms/step - loss: 0.0349 - accuracy: 0.9872 - val_loss: 5.5168 - val_accuracy: 0.5028\n",
      "Epoch 19/30\n",
      "54/54 [==============================] - 1s 23ms/step - loss: 0.0703 - accuracy: 0.9767 - val_loss: 5.4087 - val_accuracy: 0.3559\n",
      "Epoch 20/30\n",
      "54/54 [==============================] - 1s 23ms/step - loss: 0.0178 - accuracy: 0.9919 - val_loss: 2.7395 - val_accuracy: 0.5876\n",
      "Epoch 21/30\n",
      "54/54 [==============================] - 1s 23ms/step - loss: 0.0166 - accuracy: 0.9930 - val_loss: 2.9829 - val_accuracy: 0.5989\n",
      "Epoch 22/30\n",
      "54/54 [==============================] - 1s 23ms/step - loss: 0.0019 - accuracy: 1.0000 - val_loss: 3.1315 - val_accuracy: 0.5989\n",
      "Epoch 23/30\n",
      "54/54 [==============================] - 1s 23ms/step - loss: 9.2440e-04 - accuracy: 1.0000 - val_loss: 3.0415 - val_accuracy: 0.6158\n",
      "Epoch 24/30\n",
      "54/54 [==============================] - 1s 23ms/step - loss: 3.7565e-04 - accuracy: 1.0000 - val_loss: 3.0557 - val_accuracy: 0.6102\n",
      "Epoch 25/30\n",
      "54/54 [==============================] - 1s 23ms/step - loss: 5.0917e-04 - accuracy: 1.0000 - val_loss: 3.0900 - val_accuracy: 0.6045\n",
      "Epoch 26/30\n",
      "54/54 [==============================] - 1s 23ms/step - loss: 1.7724e-04 - accuracy: 1.0000 - val_loss: 3.1271 - val_accuracy: 0.6045\n",
      "Epoch 27/30\n",
      "54/54 [==============================] - 1s 23ms/step - loss: 5.1757e-04 - accuracy: 1.0000 - val_loss: 3.1119 - val_accuracy: 0.6441\n",
      "Epoch 28/30\n",
      "54/54 [==============================] - 1s 24ms/step - loss: 7.4862e-04 - accuracy: 1.0000 - val_loss: 3.0812 - val_accuracy: 0.6215\n",
      "Epoch 29/30\n",
      "54/54 [==============================] - 1s 23ms/step - loss: 1.4828e-04 - accuracy: 1.0000 - val_loss: 3.1069 - val_accuracy: 0.6102\n",
      "Epoch 30/30\n",
      "54/54 [==============================] - 1s 22ms/step - loss: 1.9715e-04 - accuracy: 1.0000 - val_loss: 3.1199 - val_accuracy: 0.6102\n"
     ]
    }
   ],
   "source": [
    "hist1 = cnn1.fit(X_train, y_train, batch_size = 16, epochs = 30, validation_data = (X_val, y_val))"
   ]
  },
  {
   "cell_type": "code",
   "execution_count": 12,
   "metadata": {},
   "outputs": [
    {
     "name": "stdout",
     "output_type": "stream",
     "text": [
      "4/4 [==============================] - 0s 11ms/step - loss: 3.6311 - accuracy: 0.5431\n"
     ]
    },
    {
     "data": {
      "text/plain": [
       "[3.631108522415161, 0.5431034564971924]"
      ]
     },
     "execution_count": 12,
     "metadata": {},
     "output_type": "execute_result"
    }
   ],
   "source": [
    "cnn1.evaluate(X_test, y_test)"
   ]
  },
  {
   "cell_type": "code",
   "execution_count": 16,
   "metadata": {},
   "outputs": [
    {
     "name": "stdout",
     "output_type": "stream",
     "text": [
      "[[0. 0. 0. ... 0. 0. 1.]\n",
      " [0. 0. 0. ... 1. 0. 0.]\n",
      " [0. 0. 0. ... 0. 0. 0.]\n",
      " ...\n",
      " [0. 0. 0. ... 0. 1. 0.]\n",
      " [0. 0. 0. ... 0. 0. 0.]\n",
      " [0. 0. 0. ... 0. 0. 1.]]\n"
     ]
    }
   ],
   "source": [
    "print(y_test)"
   ]
  },
  {
   "cell_type": "code",
   "execution_count": 12,
   "metadata": {},
   "outputs": [
    {
     "name": "stdout",
     "output_type": "stream",
     "text": [
      "39/39 [==============================] - 1s 9ms/step\n",
      "[[3.68895770e-22 2.12484405e-11 1.00000000e+00 ... 3.34794855e-14\n",
      "  2.91822405e-17 8.21483396e-23]\n",
      " [3.10468119e-18 3.03482970e-20 4.90016021e-07 ... 2.74658396e-22\n",
      "  2.20696649e-23 5.20402973e-05]\n",
      " [0.00000000e+00 1.18917828e-32 1.53337919e-32 ... 0.00000000e+00\n",
      "  0.00000000e+00 3.47671346e-20]\n",
      " ...\n",
      " [8.88502242e-22 8.12023297e-30 5.60900826e-10 ... 1.06863338e-25\n",
      "  4.03789915e-36 2.45676489e-07]\n",
      " [6.02985321e-37 9.04335195e-38 2.59763351e-31 ... 0.00000000e+00\n",
      "  0.00000000e+00 1.10371115e-23]\n",
      " [3.16480668e-15 5.62290192e-24 1.10442082e-08 ... 6.26689039e-17\n",
      "  8.62287637e-23 7.25516327e-13]]\n"
     ]
    }
   ],
   "source": [
    "y_pred = cnn1.predict(X_test)\n",
    "print(y_pred)"
   ]
  },
  {
   "cell_type": "code",
   "execution_count": 20,
   "metadata": {},
   "outputs": [
    {
     "name": "stdout",
     "output_type": "stream",
     "text": [
      "[[0 0 1 ... 0 0 0]\n",
      " [0 0 0 ... 0 0 0]\n",
      " [0 0 0 ... 0 0 0]\n",
      " ...\n",
      " [0 0 0 ... 0 0 0]\n",
      " [0 0 0 ... 0 0 0]\n",
      " [0 0 0 ... 0 0 0]]\n"
     ]
    }
   ],
   "source": [
    "y_pred = (y_pred >= 0.9).astype(\"int32\")\n",
    "print(y_pred)"
   ]
  },
  {
   "cell_type": "code",
   "execution_count": 13,
   "metadata": {},
   "outputs": [
    {
     "name": "stderr",
     "output_type": "stream",
     "text": [
      "/home/tower1/.local/lib/python3.8/site-packages/keras/src/engine/training.py:3000: UserWarning: You are saving your model as an HDF5 file via `model.save()`. This file format is considered legacy. We recommend using instead the native Keras format, e.g. `model.save('my_model.keras')`.\n",
      "  saving_api.save_model(\n"
     ]
    }
   ],
   "source": [
    "cnn1.save('cnn1.h5')"
   ]
  },
  {
   "cell_type": "code",
   "execution_count": 14,
   "metadata": {},
   "outputs": [
    {
     "name": "stdout",
     "output_type": "stream",
     "text": [
      "Model: \"sequential_1\"\n",
      "_________________________________________________________________\n",
      " Layer (type)                Output Shape              Param #   \n",
      "=================================================================\n",
      " conv2d_2 (Conv2D)           (None, 224, 224, 32)      896       \n",
      "                                                                 \n",
      " max_pooling2d_2 (MaxPoolin  (None, 112, 112, 32)      0         \n",
      " g2D)                                                            \n",
      "                                                                 \n",
      " batch_normalization_1 (Bat  (None, 112, 112, 32)      128       \n",
      " chNormalization)                                                \n",
      "                                                                 \n",
      " conv2d_3 (Conv2D)           (None, 112, 112, 32)      9248      \n",
      "                                                                 \n",
      " max_pooling2d_3 (MaxPoolin  (None, 56, 56, 32)        0         \n",
      " g2D)                                                            \n",
      "                                                                 \n",
      " dropout_1 (Dropout)         (None, 56, 56, 32)        0         \n",
      "                                                                 \n",
      " flatten_1 (Flatten)         (None, 100352)            0         \n",
      "                                                                 \n",
      " dense_2 (Dense)             (None, 512)               51380736  \n",
      "                                                                 \n",
      " dense_3 (Dense)             (None, 256)               131328    \n",
      "                                                                 \n",
      " dense_4 (Dense)             (None, 9)                 2313      \n",
      "                                                                 \n",
      "=================================================================\n",
      "Total params: 51524649 (196.55 MB)\n",
      "Trainable params: 51524585 (196.55 MB)\n",
      "Non-trainable params: 64 (256.00 Byte)\n",
      "_________________________________________________________________\n"
     ]
    }
   ],
   "source": [
    "#CNN2\n",
    "cnn2 = Sequential()\n",
    "cnn2.add(Conv2D(32, kernel_size = (3,3), padding = \"same\", activation=\"relu\", input_shape = (224, 224, 3)))\n",
    "cnn2.add(MaxPooling2D(pool_size=(2, 2)))\n",
    "cnn2.add(BatchNormalization())\n",
    "cnn2.add(Conv2D(32, kernel_size = (3,3), padding = \"same\", activation=\"relu\"))\n",
    "cnn2.add(MaxPooling2D(pool_size=(2, 2)))\n",
    "cnn2.add(Dropout(0.5))\n",
    "cnn2.add(Flatten())\n",
    "cnn2.add(Dense(512,activation = 'relu'))\n",
    "cnn2.add(Dense(256, activation = 'relu'))\n",
    "cnn2.add(Dense(9, activation='softmax'))\n",
    "cnn2.summary()"
   ]
  },
  {
   "cell_type": "code",
   "execution_count": 15,
   "metadata": {},
   "outputs": [],
   "source": [
    "cnn2.compile(optimizer = 'Adam', loss = 'categorical_crossentropy', metrics = ['accuracy'])"
   ]
  },
  {
   "cell_type": "code",
   "execution_count": 18,
   "metadata": {},
   "outputs": [
    {
     "name": "stdout",
     "output_type": "stream",
     "text": [
      "Epoch 1/30\n",
      "54/54 [==============================] - 2s 31ms/step - loss: 3.7235e-04 - accuracy: 1.0000 - val_loss: 1.7278 - val_accuracy: 0.6610\n",
      "Epoch 2/30\n",
      "54/54 [==============================] - 1s 25ms/step - loss: 2.9362e-04 - accuracy: 1.0000 - val_loss: 1.7405 - val_accuracy: 0.6610\n",
      "Epoch 3/30\n",
      "54/54 [==============================] - 1s 26ms/step - loss: 3.1657e-04 - accuracy: 1.0000 - val_loss: 1.7521 - val_accuracy: 0.6780\n",
      "Epoch 4/30\n",
      "54/54 [==============================] - 1s 25ms/step - loss: 2.5103e-04 - accuracy: 1.0000 - val_loss: 1.7780 - val_accuracy: 0.6780\n",
      "Epoch 5/30\n",
      "54/54 [==============================] - 1s 25ms/step - loss: 2.1627e-04 - accuracy: 1.0000 - val_loss: 1.7738 - val_accuracy: 0.6780\n",
      "Epoch 6/30\n",
      "54/54 [==============================] - 1s 25ms/step - loss: 2.1541e-04 - accuracy: 1.0000 - val_loss: 1.7857 - val_accuracy: 0.6949\n",
      "Epoch 7/30\n",
      "54/54 [==============================] - 1s 25ms/step - loss: 1.6085e-04 - accuracy: 1.0000 - val_loss: 1.8176 - val_accuracy: 0.6893\n",
      "Epoch 8/30\n",
      "54/54 [==============================] - 1s 26ms/step - loss: 1.5371e-04 - accuracy: 1.0000 - val_loss: 1.8163 - val_accuracy: 0.6836\n",
      "Epoch 9/30\n",
      "54/54 [==============================] - 1s 25ms/step - loss: 1.3016e-04 - accuracy: 1.0000 - val_loss: 1.8479 - val_accuracy: 0.6836\n",
      "Epoch 10/30\n",
      "54/54 [==============================] - 1s 25ms/step - loss: 1.3579e-04 - accuracy: 1.0000 - val_loss: 1.8471 - val_accuracy: 0.6893\n",
      "Epoch 11/30\n",
      "54/54 [==============================] - 1s 26ms/step - loss: 1.0293e-04 - accuracy: 1.0000 - val_loss: 1.8916 - val_accuracy: 0.7006\n",
      "Epoch 12/30\n",
      "54/54 [==============================] - 1s 25ms/step - loss: 9.6673e-05 - accuracy: 1.0000 - val_loss: 1.8623 - val_accuracy: 0.7062\n",
      "Epoch 13/30\n",
      "54/54 [==============================] - 1s 25ms/step - loss: 9.8887e-05 - accuracy: 1.0000 - val_loss: 1.8511 - val_accuracy: 0.7006\n",
      "Epoch 14/30\n",
      "54/54 [==============================] - 1s 26ms/step - loss: 9.4586e-05 - accuracy: 1.0000 - val_loss: 1.8962 - val_accuracy: 0.7006\n",
      "Epoch 15/30\n",
      "54/54 [==============================] - 1s 26ms/step - loss: 7.8373e-05 - accuracy: 1.0000 - val_loss: 1.9063 - val_accuracy: 0.7006\n",
      "Epoch 16/30\n",
      "54/54 [==============================] - 1s 25ms/step - loss: 5.5400e-05 - accuracy: 1.0000 - val_loss: 1.9405 - val_accuracy: 0.6949\n",
      "Epoch 17/30\n",
      "54/54 [==============================] - 1s 27ms/step - loss: 5.8434e-05 - accuracy: 1.0000 - val_loss: 1.9456 - val_accuracy: 0.6836\n",
      "Epoch 18/30\n",
      "54/54 [==============================] - 1s 25ms/step - loss: 6.3695e-05 - accuracy: 1.0000 - val_loss: 1.9351 - val_accuracy: 0.6949\n",
      "Epoch 19/30\n",
      "54/54 [==============================] - 1s 26ms/step - loss: 4.7735e-05 - accuracy: 1.0000 - val_loss: 1.9507 - val_accuracy: 0.6949\n",
      "Epoch 20/30\n",
      "54/54 [==============================] - 1s 26ms/step - loss: 5.3135e-05 - accuracy: 1.0000 - val_loss: 1.9876 - val_accuracy: 0.6949\n",
      "Epoch 21/30\n",
      "54/54 [==============================] - 1s 25ms/step - loss: 3.9118e-05 - accuracy: 1.0000 - val_loss: 1.9985 - val_accuracy: 0.6893\n",
      "Epoch 22/30\n",
      "54/54 [==============================] - 1s 26ms/step - loss: 8.9702e-05 - accuracy: 1.0000 - val_loss: 2.0487 - val_accuracy: 0.6723\n",
      "Epoch 23/30\n",
      "54/54 [==============================] - 1s 26ms/step - loss: 4.7326e-05 - accuracy: 1.0000 - val_loss: 2.0740 - val_accuracy: 0.6610\n",
      "Epoch 24/30\n",
      "54/54 [==============================] - 1s 25ms/step - loss: 3.4205e-05 - accuracy: 1.0000 - val_loss: 2.0695 - val_accuracy: 0.6723\n",
      "Epoch 25/30\n",
      "54/54 [==============================] - 1s 26ms/step - loss: 3.4313e-05 - accuracy: 1.0000 - val_loss: 2.0574 - val_accuracy: 0.6780\n",
      "Epoch 26/30\n",
      "54/54 [==============================] - 1s 25ms/step - loss: 2.2780e-05 - accuracy: 1.0000 - val_loss: 2.0840 - val_accuracy: 0.6667\n",
      "Epoch 27/30\n",
      "54/54 [==============================] - 1s 25ms/step - loss: 2.2506e-05 - accuracy: 1.0000 - val_loss: 2.0500 - val_accuracy: 0.6836\n",
      "Epoch 28/30\n",
      "54/54 [==============================] - 1s 26ms/step - loss: 1.6993e-05 - accuracy: 1.0000 - val_loss: 2.0667 - val_accuracy: 0.6780\n",
      "Epoch 29/30\n",
      "54/54 [==============================] - 1s 25ms/step - loss: 1.7053e-05 - accuracy: 1.0000 - val_loss: 2.0883 - val_accuracy: 0.6780\n",
      "Epoch 30/30\n",
      "54/54 [==============================] - 1s 26ms/step - loss: 2.3393e-05 - accuracy: 1.0000 - val_loss: 2.0906 - val_accuracy: 0.6780\n"
     ]
    }
   ],
   "source": [
    "hist2 = cnn2.fit(X_train, y_train, batch_size= 16, epochs = 30, validation_data = (X_val, y_val))"
   ]
  },
  {
   "cell_type": "code",
   "execution_count": 19,
   "metadata": {},
   "outputs": [
    {
     "name": "stdout",
     "output_type": "stream",
     "text": [
      "4/4 [==============================] - 0s 11ms/step - loss: 2.2920 - accuracy: 0.6379\n"
     ]
    },
    {
     "data": {
      "text/plain": [
       "[2.2919564247131348, 0.6379310488700867]"
      ]
     },
     "execution_count": 19,
     "metadata": {},
     "output_type": "execute_result"
    }
   ],
   "source": [
    "cnn2.evaluate(X_test, y_test)"
   ]
  },
  {
   "cell_type": "code",
   "execution_count": 20,
   "metadata": {},
   "outputs": [],
   "source": [
    "cnn2.save('cnn2.h5')"
   ]
  },
  {
   "cell_type": "code",
   "execution_count": 21,
   "metadata": {},
   "outputs": [
    {
     "name": "stdout",
     "output_type": "stream",
     "text": [
      "Model: \"sequential_2\"\n",
      "_________________________________________________________________\n",
      " Layer (type)                Output Shape              Param #   \n",
      "=================================================================\n",
      " conv2d_4 (Conv2D)           (None, 224, 224, 32)      896       \n",
      "                                                                 \n",
      " max_pooling2d_4 (MaxPoolin  (None, 112, 112, 32)      0         \n",
      " g2D)                                                            \n",
      "                                                                 \n",
      " batch_normalization_2 (Bat  (None, 112, 112, 32)      128       \n",
      " chNormalization)                                                \n",
      "                                                                 \n",
      " conv2d_5 (Conv2D)           (None, 112, 112, 32)      9248      \n",
      "                                                                 \n",
      " max_pooling2d_5 (MaxPoolin  (None, 56, 56, 32)        0         \n",
      " g2D)                                                            \n",
      "                                                                 \n",
      " dropout_2 (Dropout)         (None, 56, 56, 32)        0         \n",
      "                                                                 \n",
      " flatten_2 (Flatten)         (None, 100352)            0         \n",
      "                                                                 \n",
      " dense_5 (Dense)             (None, 128)               12845184  \n",
      "                                                                 \n",
      " dense_6 (Dense)             (None, 64)                8256      \n",
      "                                                                 \n",
      " dense_7 (Dense)             (None, 32)                2080      \n",
      "                                                                 \n",
      " dense_8 (Dense)             (None, 9)                 297       \n",
      "                                                                 \n",
      "=================================================================\n",
      "Total params: 12866089 (49.08 MB)\n",
      "Trainable params: 12866025 (49.08 MB)\n",
      "Non-trainable params: 64 (256.00 Byte)\n",
      "_________________________________________________________________\n"
     ]
    }
   ],
   "source": [
    "#CNN3\n",
    "cnn3 = Sequential()\n",
    "cnn3.add(Conv2D(32, kernel_size = (3,3), padding = \"same\", activation=\"relu\", input_shape = (224, 224, 3)))\n",
    "cnn3.add(MaxPooling2D(pool_size=(2, 2)))\n",
    "cnn3.add(BatchNormalization())\n",
    "cnn3.add(Conv2D(32, kernel_size = (3,3), padding = \"same\", activation=\"relu\"))\n",
    "cnn3.add(MaxPooling2D(pool_size=(2, 2)))\n",
    "cnn3.add(Dropout(0.5))\n",
    "cnn3.add(Flatten())\n",
    "cnn3.add(Dense(128, activation = 'relu'))\n",
    "cnn3.add(Dense(64, activation=\"relu\"))\n",
    "cnn3.add(Dense(32, activation=\"relu\"))\n",
    "cnn3.add(Dense(9, activation='softmax'))\n",
    "cnn3.summary()"
   ]
  },
  {
   "cell_type": "code",
   "execution_count": 22,
   "metadata": {},
   "outputs": [],
   "source": [
    "cnn3.compile(optimizer = 'Adam', loss = 'categorical_crossentropy', metrics = ['accuracy'])"
   ]
  },
  {
   "cell_type": "code",
   "execution_count": 23,
   "metadata": {},
   "outputs": [
    {
     "name": "stdout",
     "output_type": "stream",
     "text": [
      "Epoch 1/30\n"
     ]
    },
    {
     "name": "stderr",
     "output_type": "stream",
     "text": [
      "2023-11-21 22:57:47.720118: E tensorflow/core/grappler/optimizers/meta_optimizer.cc:954] layout failed: INVALID_ARGUMENT: Size of values 0 does not match size of permutation 4 @ fanin shape insequential_2/dropout_2/dropout/SelectV2-2-TransposeNHWCToNCHW-LayoutOptimizer\n"
     ]
    },
    {
     "name": "stdout",
     "output_type": "stream",
     "text": [
      "54/54 [==============================] - 5s 30ms/step - loss: 2.8930 - accuracy: 0.2678 - val_loss: 2.1271 - val_accuracy: 0.2316\n",
      "Epoch 2/30\n",
      "54/54 [==============================] - 1s 23ms/step - loss: 1.2699 - accuracy: 0.5390 - val_loss: 1.9813 - val_accuracy: 0.2542\n",
      "Epoch 3/30\n",
      "54/54 [==============================] - 1s 23ms/step - loss: 0.8501 - accuracy: 0.6962 - val_loss: 1.9020 - val_accuracy: 0.3277\n",
      "Epoch 4/30\n",
      "54/54 [==============================] - 1s 23ms/step - loss: 0.5289 - accuracy: 0.8033 - val_loss: 1.7289 - val_accuracy: 0.4124\n",
      "Epoch 5/30\n",
      "54/54 [==============================] - 1s 23ms/step - loss: 0.4580 - accuracy: 0.8440 - val_loss: 1.5913 - val_accuracy: 0.4011\n",
      "Epoch 6/30\n",
      "54/54 [==============================] - 1s 23ms/step - loss: 0.2317 - accuracy: 0.9255 - val_loss: 1.3099 - val_accuracy: 0.5763\n",
      "Epoch 7/30\n",
      "54/54 [==============================] - 1s 23ms/step - loss: 0.1369 - accuracy: 0.9604 - val_loss: 1.0879 - val_accuracy: 0.6158\n",
      "Epoch 8/30\n",
      "54/54 [==============================] - 1s 22ms/step - loss: 0.0587 - accuracy: 0.9849 - val_loss: 1.0098 - val_accuracy: 0.6158\n",
      "Epoch 9/30\n",
      "54/54 [==============================] - 1s 23ms/step - loss: 0.0566 - accuracy: 0.9825 - val_loss: 1.2190 - val_accuracy: 0.6271\n",
      "Epoch 10/30\n",
      "54/54 [==============================] - 1s 23ms/step - loss: 0.0466 - accuracy: 0.9884 - val_loss: 1.6641 - val_accuracy: 0.5593\n",
      "Epoch 11/30\n",
      "54/54 [==============================] - 1s 24ms/step - loss: 0.0916 - accuracy: 0.9674 - val_loss: 1.2826 - val_accuracy: 0.6497\n",
      "Epoch 12/30\n",
      "54/54 [==============================] - 1s 23ms/step - loss: 0.0908 - accuracy: 0.9721 - val_loss: 1.5065 - val_accuracy: 0.6328\n",
      "Epoch 13/30\n",
      "54/54 [==============================] - 1s 22ms/step - loss: 0.0501 - accuracy: 0.9849 - val_loss: 1.6521 - val_accuracy: 0.6554\n",
      "Epoch 14/30\n",
      "54/54 [==============================] - 1s 23ms/step - loss: 0.0476 - accuracy: 0.9872 - val_loss: 2.8970 - val_accuracy: 0.5254\n",
      "Epoch 15/30\n",
      "54/54 [==============================] - 1s 23ms/step - loss: 0.1425 - accuracy: 0.9569 - val_loss: 6.3315 - val_accuracy: 0.3333\n",
      "Epoch 16/30\n",
      "54/54 [==============================] - 1s 23ms/step - loss: 0.1507 - accuracy: 0.9523 - val_loss: 3.2337 - val_accuracy: 0.4633\n",
      "Epoch 17/30\n",
      "54/54 [==============================] - 1s 23ms/step - loss: 0.0497 - accuracy: 0.9849 - val_loss: 1.9966 - val_accuracy: 0.6045\n",
      "Epoch 18/30\n",
      "54/54 [==============================] - 1s 23ms/step - loss: 0.0844 - accuracy: 0.9697 - val_loss: 5.0676 - val_accuracy: 0.3672\n",
      "Epoch 19/30\n",
      "54/54 [==============================] - 1s 23ms/step - loss: 0.1227 - accuracy: 0.9721 - val_loss: 2.7032 - val_accuracy: 0.5480\n",
      "Epoch 20/30\n",
      "54/54 [==============================] - 1s 23ms/step - loss: 0.0182 - accuracy: 0.9965 - val_loss: 2.1796 - val_accuracy: 0.6271\n",
      "Epoch 21/30\n",
      "54/54 [==============================] - 1s 23ms/step - loss: 0.0568 - accuracy: 0.9849 - val_loss: 1.9755 - val_accuracy: 0.5593\n",
      "Epoch 22/30\n",
      "54/54 [==============================] - 1s 23ms/step - loss: 0.0291 - accuracy: 0.9942 - val_loss: 2.3274 - val_accuracy: 0.6271\n",
      "Epoch 23/30\n",
      "54/54 [==============================] - 1s 23ms/step - loss: 0.0235 - accuracy: 0.9919 - val_loss: 1.9679 - val_accuracy: 0.6271\n",
      "Epoch 24/30\n",
      "54/54 [==============================] - 1s 23ms/step - loss: 0.0042 - accuracy: 1.0000 - val_loss: 2.1165 - val_accuracy: 0.6384\n",
      "Epoch 25/30\n",
      "54/54 [==============================] - 1s 24ms/step - loss: 0.0021 - accuracy: 1.0000 - val_loss: 2.2087 - val_accuracy: 0.6667\n",
      "Epoch 26/30\n",
      "54/54 [==============================] - 1s 23ms/step - loss: 0.0012 - accuracy: 1.0000 - val_loss: 2.1720 - val_accuracy: 0.6667\n",
      "Epoch 27/30\n",
      "54/54 [==============================] - 1s 23ms/step - loss: 6.3447e-04 - accuracy: 1.0000 - val_loss: 2.1739 - val_accuracy: 0.6780\n",
      "Epoch 28/30\n",
      "54/54 [==============================] - 1s 23ms/step - loss: 3.8105e-04 - accuracy: 1.0000 - val_loss: 2.2088 - val_accuracy: 0.6893\n",
      "Epoch 29/30\n",
      "54/54 [==============================] - 1s 23ms/step - loss: 3.8459e-04 - accuracy: 1.0000 - val_loss: 2.2317 - val_accuracy: 0.6949\n",
      "Epoch 30/30\n",
      "54/54 [==============================] - 1s 23ms/step - loss: 5.0005e-04 - accuracy: 1.0000 - val_loss: 2.2361 - val_accuracy: 0.6836\n"
     ]
    }
   ],
   "source": [
    "hist3 = cnn3.fit(X_train, y_train, batch_size= 16, epochs = 30, validation_data = (X_val, y_val))"
   ]
  },
  {
   "cell_type": "code",
   "execution_count": 24,
   "metadata": {},
   "outputs": [
    {
     "name": "stdout",
     "output_type": "stream",
     "text": [
      "4/4 [==============================] - 0s 11ms/step - loss: 2.7042 - accuracy: 0.6207\n"
     ]
    },
    {
     "data": {
      "text/plain": [
       "[2.7041728496551514, 0.6206896305084229]"
      ]
     },
     "execution_count": 24,
     "metadata": {},
     "output_type": "execute_result"
    }
   ],
   "source": [
    "cnn3.evaluate(X_test, y_test)"
   ]
  },
  {
   "cell_type": "code",
   "execution_count": 25,
   "metadata": {},
   "outputs": [],
   "source": [
    "cnn3.save('cnn3.h5')"
   ]
  },
  {
   "cell_type": "code",
   "execution_count": 26,
   "metadata": {},
   "outputs": [
    {
     "name": "stdout",
     "output_type": "stream",
     "text": [
      "Model: \"sequential_3\"\n",
      "_________________________________________________________________\n",
      " Layer (type)                Output Shape              Param #   \n",
      "=================================================================\n",
      " conv2d_6 (Conv2D)           (None, 224, 224, 32)      896       \n",
      "                                                                 \n",
      " max_pooling2d_6 (MaxPoolin  (None, 112, 112, 32)      0         \n",
      " g2D)                                                            \n",
      "                                                                 \n",
      " batch_normalization_3 (Bat  (None, 112, 112, 32)      128       \n",
      " chNormalization)                                                \n",
      "                                                                 \n",
      " conv2d_7 (Conv2D)           (None, 112, 112, 32)      9248      \n",
      "                                                                 \n",
      " max_pooling2d_7 (MaxPoolin  (None, 56, 56, 32)        0         \n",
      " g2D)                                                            \n",
      "                                                                 \n",
      " dropout_3 (Dropout)         (None, 56, 56, 32)        0         \n",
      "                                                                 \n",
      " flatten_3 (Flatten)         (None, 100352)            0         \n",
      "                                                                 \n",
      " dense_9 (Dense)             (None, 128)               12845184  \n",
      "                                                                 \n",
      " dense_10 (Dense)            (None, 64)                8256      \n",
      "                                                                 \n",
      " dense_11 (Dense)            (None, 9)                 585       \n",
      "                                                                 \n",
      "=================================================================\n",
      "Total params: 12864297 (49.07 MB)\n",
      "Trainable params: 12864233 (49.07 MB)\n",
      "Non-trainable params: 64 (256.00 Byte)\n",
      "_________________________________________________________________\n"
     ]
    }
   ],
   "source": [
    "#CNN4\n",
    "cnn4 = Sequential()\n",
    "cnn4.add(Conv2D(32, kernel_size = (3,3), padding = \"same\", activation=\"relu\", input_shape = (224, 224, 3)))\n",
    "cnn4.add(MaxPooling2D(pool_size=(2, 2)))\n",
    "cnn4.add(BatchNormalization())\n",
    "cnn4.add(Conv2D(32, kernel_size = (3,3), padding = \"same\", activation=\"relu\"))\n",
    "cnn4.add(MaxPooling2D(pool_size=(2, 2)))\n",
    "cnn4.add(Dropout(0.5))\n",
    "cnn4.add(Flatten())\n",
    "cnn4.add(Dense(128, activation = 'relu'))\n",
    "cnn4.add(Dense(64, activation=\"relu\"))\n",
    "cnn4.add(Dense(9, activation='softmax'))\n",
    "cnn4.summary()"
   ]
  },
  {
   "cell_type": "code",
   "execution_count": 27,
   "metadata": {},
   "outputs": [],
   "source": [
    "cnn4.compile(optimizer = 'Adam', loss = 'categorical_crossentropy', metrics = ['accuracy'])"
   ]
  },
  {
   "cell_type": "code",
   "execution_count": 28,
   "metadata": {},
   "outputs": [
    {
     "name": "stdout",
     "output_type": "stream",
     "text": [
      "Epoch 1/30\n"
     ]
    },
    {
     "name": "stderr",
     "output_type": "stream",
     "text": [
      "2023-11-21 23:00:31.021119: E tensorflow/core/grappler/optimizers/meta_optimizer.cc:954] layout failed: INVALID_ARGUMENT: Size of values 0 does not match size of permutation 4 @ fanin shape insequential_3/dropout_3/dropout/SelectV2-2-TransposeNHWCToNCHW-LayoutOptimizer\n"
     ]
    },
    {
     "name": "stdout",
     "output_type": "stream",
     "text": [
      "54/54 [==============================] - 4s 29ms/step - loss: 3.9460 - accuracy: 0.3260 - val_loss: 2.1006 - val_accuracy: 0.1864\n",
      "Epoch 2/30\n",
      "54/54 [==============================] - 1s 22ms/step - loss: 1.1490 - accuracy: 0.5704 - val_loss: 2.1582 - val_accuracy: 0.1186\n",
      "Epoch 3/30\n",
      "54/54 [==============================] - 1s 22ms/step - loss: 0.7074 - accuracy: 0.7439 - val_loss: 2.0894 - val_accuracy: 0.1695\n",
      "Epoch 4/30\n",
      "54/54 [==============================] - 1s 22ms/step - loss: 0.4323 - accuracy: 0.8533 - val_loss: 1.7788 - val_accuracy: 0.3785\n",
      "Epoch 5/30\n",
      "54/54 [==============================] - 1s 22ms/step - loss: 0.1826 - accuracy: 0.9604 - val_loss: 1.6114 - val_accuracy: 0.4915\n",
      "Epoch 6/30\n",
      "54/54 [==============================] - 1s 22ms/step - loss: 0.0881 - accuracy: 0.9837 - val_loss: 1.3511 - val_accuracy: 0.5593\n",
      "Epoch 7/30\n",
      "54/54 [==============================] - 1s 23ms/step - loss: 0.0798 - accuracy: 0.9767 - val_loss: 1.7381 - val_accuracy: 0.4124\n",
      "Epoch 8/30\n",
      "54/54 [==============================] - 1s 22ms/step - loss: 0.0762 - accuracy: 0.9814 - val_loss: 1.0726 - val_accuracy: 0.6271\n",
      "Epoch 9/30\n",
      "54/54 [==============================] - 1s 22ms/step - loss: 0.0580 - accuracy: 0.9837 - val_loss: 1.3309 - val_accuracy: 0.5763\n",
      "Epoch 10/30\n",
      "54/54 [==============================] - 1s 22ms/step - loss: 0.0889 - accuracy: 0.9662 - val_loss: 2.7303 - val_accuracy: 0.4124\n",
      "Epoch 11/30\n",
      "54/54 [==============================] - 1s 22ms/step - loss: 0.0805 - accuracy: 0.9802 - val_loss: 1.6657 - val_accuracy: 0.5706\n",
      "Epoch 12/30\n",
      "54/54 [==============================] - 1s 23ms/step - loss: 0.0484 - accuracy: 0.9860 - val_loss: 1.5021 - val_accuracy: 0.6328\n",
      "Epoch 13/30\n",
      "54/54 [==============================] - 1s 22ms/step - loss: 0.0267 - accuracy: 0.9953 - val_loss: 1.3622 - val_accuracy: 0.6554\n",
      "Epoch 14/30\n",
      "54/54 [==============================] - 1s 22ms/step - loss: 0.0091 - accuracy: 1.0000 - val_loss: 1.6191 - val_accuracy: 0.6328\n",
      "Epoch 15/30\n",
      "54/54 [==============================] - 1s 22ms/step - loss: 0.0112 - accuracy: 0.9988 - val_loss: 1.8704 - val_accuracy: 0.6554\n",
      "Epoch 16/30\n",
      "54/54 [==============================] - 1s 22ms/step - loss: 0.0307 - accuracy: 0.9907 - val_loss: 2.8332 - val_accuracy: 0.5254\n",
      "Epoch 17/30\n",
      "54/54 [==============================] - 1s 22ms/step - loss: 0.0235 - accuracy: 0.9977 - val_loss: 2.5314 - val_accuracy: 0.6045\n",
      "Epoch 18/30\n",
      "54/54 [==============================] - 1s 23ms/step - loss: 0.0248 - accuracy: 0.9942 - val_loss: 1.6675 - val_accuracy: 0.6441\n",
      "Epoch 19/30\n",
      "54/54 [==============================] - 1s 22ms/step - loss: 0.0119 - accuracy: 0.9965 - val_loss: 2.2690 - val_accuracy: 0.5876\n",
      "Epoch 20/30\n",
      "54/54 [==============================] - 1s 22ms/step - loss: 0.0090 - accuracy: 0.9988 - val_loss: 1.9203 - val_accuracy: 0.6554\n",
      "Epoch 21/30\n",
      "54/54 [==============================] - 1s 23ms/step - loss: 0.0017 - accuracy: 1.0000 - val_loss: 1.9315 - val_accuracy: 0.6667\n",
      "Epoch 22/30\n",
      "54/54 [==============================] - 1s 22ms/step - loss: 0.0033 - accuracy: 0.9988 - val_loss: 1.6981 - val_accuracy: 0.6949\n",
      "Epoch 23/30\n",
      "54/54 [==============================] - 1s 23ms/step - loss: 0.0019 - accuracy: 1.0000 - val_loss: 1.9660 - val_accuracy: 0.6723\n",
      "Epoch 24/30\n",
      "54/54 [==============================] - 1s 22ms/step - loss: 0.0026 - accuracy: 0.9988 - val_loss: 1.9626 - val_accuracy: 0.6497\n",
      "Epoch 25/30\n",
      "54/54 [==============================] - 1s 22ms/step - loss: 7.2340e-04 - accuracy: 1.0000 - val_loss: 1.7937 - val_accuracy: 0.7062\n",
      "Epoch 26/30\n",
      "54/54 [==============================] - 1s 22ms/step - loss: 3.5740e-04 - accuracy: 1.0000 - val_loss: 1.8475 - val_accuracy: 0.6836\n",
      "Epoch 27/30\n",
      "54/54 [==============================] - 1s 22ms/step - loss: 2.4736e-04 - accuracy: 1.0000 - val_loss: 1.8706 - val_accuracy: 0.6836\n",
      "Epoch 28/30\n",
      "54/54 [==============================] - 1s 22ms/step - loss: 2.5203e-04 - accuracy: 1.0000 - val_loss: 1.8787 - val_accuracy: 0.6949\n",
      "Epoch 29/30\n",
      "54/54 [==============================] - 1s 22ms/step - loss: 2.0026e-04 - accuracy: 1.0000 - val_loss: 1.9089 - val_accuracy: 0.6949\n",
      "Epoch 30/30\n",
      "54/54 [==============================] - 1s 22ms/step - loss: 3.5598e-04 - accuracy: 1.0000 - val_loss: 1.9266 - val_accuracy: 0.6836\n"
     ]
    }
   ],
   "source": [
    "hist4 = cnn4.fit(X_train, y_train, batch_size= 16, epochs = 30, validation_data = (X_val, y_val))"
   ]
  },
  {
   "cell_type": "code",
   "execution_count": 29,
   "metadata": {},
   "outputs": [
    {
     "name": "stdout",
     "output_type": "stream",
     "text": [
      "4/4 [==============================] - 0s 11ms/step - loss: 2.8426 - accuracy: 0.5690\n"
     ]
    },
    {
     "data": {
      "text/plain": [
       "[2.8426434993743896, 0.568965494632721]"
      ]
     },
     "execution_count": 29,
     "metadata": {},
     "output_type": "execute_result"
    }
   ],
   "source": [
    "cnn4.evaluate(X_test, y_test)"
   ]
  },
  {
   "cell_type": "code",
   "execution_count": 30,
   "metadata": {},
   "outputs": [],
   "source": [
    "cnn4.save('cnn4.h5')"
   ]
  }
 ],
 "metadata": {
  "kernelspec": {
   "display_name": "keras",
   "language": "python",
   "name": "python3"
  },
  "language_info": {
   "codemirror_mode": {
    "name": "ipython",
    "version": 3
   },
   "file_extension": ".py",
   "mimetype": "text/x-python",
   "name": "python",
   "nbconvert_exporter": "python",
   "pygments_lexer": "ipython3",
   "version": "3.8.18"
  },
  "orig_nbformat": 4
 },
 "nbformat": 4,
 "nbformat_minor": 2
}
